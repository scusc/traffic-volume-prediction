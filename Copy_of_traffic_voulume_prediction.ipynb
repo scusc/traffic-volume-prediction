{
  "nbformat": 4,
  "nbformat_minor": 0,
  "metadata": {
    "colab": {
      "name": "Copy of traffic voulume prediction.ipynb",
      "provenance": [],
      "authorship_tag": "ABX9TyNm8Gr0DMN0iw/9CH2wHQNT",
      "include_colab_link": true
    },
    "kernelspec": {
      "name": "python3",
      "display_name": "Python 3"
    },
    "language_info": {
      "name": "python"
    }
  },
  "cells": [
    {
      "cell_type": "markdown",
      "metadata": {
        "id": "view-in-github",
        "colab_type": "text"
      },
      "source": [
        "<a href=\"https://colab.research.google.com/github/sunkarasaichand/traffic-volume-prediction/blob/main/Copy_of_traffic_voulume_prediction.ipynb\" target=\"_parent\"><img src=\"https://colab.research.google.com/assets/colab-badge.svg\" alt=\"Open In Colab\"/></a>"
      ]
    },
    {
      "cell_type": "code",
      "metadata": {
        "id": "VtH1S3s9iswO",
        "colab": {
          "base_uri": "https://localhost:8080/",
          "height": 394
        },
        "outputId": "ecc4ad6f-f431-44c5-99ad-945aaa62b281"
      },
      "source": [
        "import numpy as np \n",
        "import pandas as pd\n",
        "df=pd.read_csv('/content/TRAIN.csv')\n",
        "df.head()"
      ],
      "execution_count": null,
      "outputs": [
        {
          "output_type": "execute_result",
          "data": {
            "text/html": [
              "<div>\n",
              "<style scoped>\n",
              "    .dataframe tbody tr th:only-of-type {\n",
              "        vertical-align: middle;\n",
              "    }\n",
              "\n",
              "    .dataframe tbody tr th {\n",
              "        vertical-align: top;\n",
              "    }\n",
              "\n",
              "    .dataframe thead th {\n",
              "        text-align: right;\n",
              "    }\n",
              "</style>\n",
              "<table border=\"1\" class=\"dataframe\">\n",
              "  <thead>\n",
              "    <tr style=\"text-align: right;\">\n",
              "      <th></th>\n",
              "      <th>date_time</th>\n",
              "      <th>holiday</th>\n",
              "      <th>temp</th>\n",
              "      <th>rain_1h</th>\n",
              "      <th>snow_1h</th>\n",
              "      <th>clouds_all</th>\n",
              "      <th>weather_main</th>\n",
              "      <th>weather_description</th>\n",
              "      <th>traffic_volume</th>\n",
              "    </tr>\n",
              "  </thead>\n",
              "  <tbody>\n",
              "    <tr>\n",
              "      <th>0</th>\n",
              "      <td>2012-10-02 09:00:00</td>\n",
              "      <td>None</td>\n",
              "      <td>288.28</td>\n",
              "      <td>0.0</td>\n",
              "      <td>0.0</td>\n",
              "      <td>40</td>\n",
              "      <td>Clouds</td>\n",
              "      <td>scattered clouds</td>\n",
              "      <td>5545</td>\n",
              "    </tr>\n",
              "    <tr>\n",
              "      <th>1</th>\n",
              "      <td>2012-10-02 10:00:00</td>\n",
              "      <td>None</td>\n",
              "      <td>289.36</td>\n",
              "      <td>0.0</td>\n",
              "      <td>0.0</td>\n",
              "      <td>75</td>\n",
              "      <td>Clouds</td>\n",
              "      <td>broken clouds</td>\n",
              "      <td>4516</td>\n",
              "    </tr>\n",
              "    <tr>\n",
              "      <th>2</th>\n",
              "      <td>2012-10-02 11:00:00</td>\n",
              "      <td>None</td>\n",
              "      <td>289.58</td>\n",
              "      <td>0.0</td>\n",
              "      <td>0.0</td>\n",
              "      <td>90</td>\n",
              "      <td>Clouds</td>\n",
              "      <td>overcast clouds</td>\n",
              "      <td>4767</td>\n",
              "    </tr>\n",
              "    <tr>\n",
              "      <th>3</th>\n",
              "      <td>2012-10-02 12:00:00</td>\n",
              "      <td>None</td>\n",
              "      <td>290.13</td>\n",
              "      <td>0.0</td>\n",
              "      <td>0.0</td>\n",
              "      <td>90</td>\n",
              "      <td>Clouds</td>\n",
              "      <td>overcast clouds</td>\n",
              "      <td>5026</td>\n",
              "    </tr>\n",
              "    <tr>\n",
              "      <th>4</th>\n",
              "      <td>2012-10-02 13:00:00</td>\n",
              "      <td>None</td>\n",
              "      <td>291.14</td>\n",
              "      <td>0.0</td>\n",
              "      <td>0.0</td>\n",
              "      <td>75</td>\n",
              "      <td>Clouds</td>\n",
              "      <td>broken clouds</td>\n",
              "      <td>4918</td>\n",
              "    </tr>\n",
              "  </tbody>\n",
              "</table>\n",
              "</div>"
            ],
            "text/plain": [
              "             date_time holiday  ...  weather_description  traffic_volume\n",
              "0  2012-10-02 09:00:00    None  ...     scattered clouds            5545\n",
              "1  2012-10-02 10:00:00    None  ...        broken clouds            4516\n",
              "2  2012-10-02 11:00:00    None  ...      overcast clouds            4767\n",
              "3  2012-10-02 12:00:00    None  ...      overcast clouds            5026\n",
              "4  2012-10-02 13:00:00    None  ...        broken clouds            4918\n",
              "\n",
              "[5 rows x 9 columns]"
            ]
          },
          "metadata": {},
          "execution_count": 1
        }
      ]
    },
    {
      "cell_type": "code",
      "metadata": {
        "colab": {
          "base_uri": "https://localhost:8080/"
        },
        "id": "6q_Yvj60_Vmw",
        "outputId": "e6a5fabf-73cb-4e7e-ac65-f256641fd262"
      },
      "source": [
        "df.shape\n"
      ],
      "execution_count": null,
      "outputs": [
        {
          "output_type": "execute_result",
          "data": {
            "text/plain": [
              "(38563, 9)"
            ]
          },
          "metadata": {},
          "execution_count": 2
        }
      ]
    },
    {
      "cell_type": "code",
      "metadata": {
        "colab": {
          "base_uri": "https://localhost:8080/"
        },
        "id": "SL4jirl5_X_8",
        "outputId": "6f31b06e-1bb4-47d2-d7a7-5fc4c0b36aa9"
      },
      "source": [
        "df.info()"
      ],
      "execution_count": null,
      "outputs": [
        {
          "output_type": "stream",
          "name": "stdout",
          "text": [
            "<class 'pandas.core.frame.DataFrame'>\n",
            "RangeIndex: 38563 entries, 0 to 38562\n",
            "Data columns (total 9 columns):\n",
            " #   Column               Non-Null Count  Dtype  \n",
            "---  ------               --------------  -----  \n",
            " 0   date_time            38563 non-null  object \n",
            " 1   holiday              38563 non-null  object \n",
            " 2   temp                 38563 non-null  float64\n",
            " 3   rain_1h              38563 non-null  float64\n",
            " 4   snow_1h              38563 non-null  float64\n",
            " 5   clouds_all           38563 non-null  int64  \n",
            " 6   weather_main         38563 non-null  object \n",
            " 7   weather_description  38563 non-null  object \n",
            " 8   traffic_volume       38563 non-null  int64  \n",
            "dtypes: float64(3), int64(2), object(4)\n",
            "memory usage: 2.6+ MB\n"
          ]
        }
      ]
    },
    {
      "cell_type": "code",
      "metadata": {
        "colab": {
          "base_uri": "https://localhost:8080/",
          "height": 297
        },
        "id": "_107QFB4_bhD",
        "outputId": "31af69eb-e6f1-4646-e90f-2f97be13ad7f"
      },
      "source": [
        "df.describe()"
      ],
      "execution_count": null,
      "outputs": [
        {
          "output_type": "execute_result",
          "data": {
            "text/html": [
              "<div>\n",
              "<style scoped>\n",
              "    .dataframe tbody tr th:only-of-type {\n",
              "        vertical-align: middle;\n",
              "    }\n",
              "\n",
              "    .dataframe tbody tr th {\n",
              "        vertical-align: top;\n",
              "    }\n",
              "\n",
              "    .dataframe thead th {\n",
              "        text-align: right;\n",
              "    }\n",
              "</style>\n",
              "<table border=\"1\" class=\"dataframe\">\n",
              "  <thead>\n",
              "    <tr style=\"text-align: right;\">\n",
              "      <th></th>\n",
              "      <th>temp</th>\n",
              "      <th>rain_1h</th>\n",
              "      <th>snow_1h</th>\n",
              "      <th>clouds_all</th>\n",
              "      <th>traffic_volume</th>\n",
              "    </tr>\n",
              "  </thead>\n",
              "  <tbody>\n",
              "    <tr>\n",
              "      <th>count</th>\n",
              "      <td>38563.000000</td>\n",
              "      <td>38563.000000</td>\n",
              "      <td>38563.000000</td>\n",
              "      <td>38563.000000</td>\n",
              "      <td>38563.000000</td>\n",
              "    </tr>\n",
              "    <tr>\n",
              "      <th>mean</th>\n",
              "      <td>281.351757</td>\n",
              "      <td>0.392733</td>\n",
              "      <td>0.000278</td>\n",
              "      <td>49.920364</td>\n",
              "      <td>3260.940409</td>\n",
              "    </tr>\n",
              "    <tr>\n",
              "      <th>std</th>\n",
              "      <td>13.216927</td>\n",
              "      <td>50.075055</td>\n",
              "      <td>0.009131</td>\n",
              "      <td>38.849106</td>\n",
              "      <td>1991.628329</td>\n",
              "    </tr>\n",
              "    <tr>\n",
              "      <th>min</th>\n",
              "      <td>0.000000</td>\n",
              "      <td>0.000000</td>\n",
              "      <td>0.000000</td>\n",
              "      <td>0.000000</td>\n",
              "      <td>0.000000</td>\n",
              "    </tr>\n",
              "    <tr>\n",
              "      <th>25%</th>\n",
              "      <td>272.858000</td>\n",
              "      <td>0.000000</td>\n",
              "      <td>0.000000</td>\n",
              "      <td>1.000000</td>\n",
              "      <td>1186.500000</td>\n",
              "    </tr>\n",
              "    <tr>\n",
              "      <th>50%</th>\n",
              "      <td>282.750000</td>\n",
              "      <td>0.000000</td>\n",
              "      <td>0.000000</td>\n",
              "      <td>64.000000</td>\n",
              "      <td>3378.000000</td>\n",
              "    </tr>\n",
              "    <tr>\n",
              "      <th>75%</th>\n",
              "      <td>291.540000</td>\n",
              "      <td>0.000000</td>\n",
              "      <td>0.000000</td>\n",
              "      <td>90.000000</td>\n",
              "      <td>4939.000000</td>\n",
              "    </tr>\n",
              "    <tr>\n",
              "      <th>max</th>\n",
              "      <td>308.240000</td>\n",
              "      <td>9831.300000</td>\n",
              "      <td>0.510000</td>\n",
              "      <td>100.000000</td>\n",
              "      <td>7280.000000</td>\n",
              "    </tr>\n",
              "  </tbody>\n",
              "</table>\n",
              "</div>"
            ],
            "text/plain": [
              "               temp       rain_1h       snow_1h    clouds_all  traffic_volume\n",
              "count  38563.000000  38563.000000  38563.000000  38563.000000    38563.000000\n",
              "mean     281.351757      0.392733      0.000278     49.920364     3260.940409\n",
              "std       13.216927     50.075055      0.009131     38.849106     1991.628329\n",
              "min        0.000000      0.000000      0.000000      0.000000        0.000000\n",
              "25%      272.858000      0.000000      0.000000      1.000000     1186.500000\n",
              "50%      282.750000      0.000000      0.000000     64.000000     3378.000000\n",
              "75%      291.540000      0.000000      0.000000     90.000000     4939.000000\n",
              "max      308.240000   9831.300000      0.510000    100.000000     7280.000000"
            ]
          },
          "metadata": {},
          "execution_count": 4
        }
      ]
    },
    {
      "cell_type": "code",
      "metadata": {
        "colab": {
          "base_uri": "https://localhost:8080/"
        },
        "id": "WOIrY5f0_dco",
        "outputId": "bb80e4b5-2400-4267-cf7c-b0810e14e2ae"
      },
      "source": [
        "df.isna().sum()"
      ],
      "execution_count": null,
      "outputs": [
        {
          "output_type": "execute_result",
          "data": {
            "text/plain": [
              "date_time              0\n",
              "holiday                0\n",
              "temp                   0\n",
              "rain_1h                0\n",
              "snow_1h                0\n",
              "clouds_all             0\n",
              "weather_main           0\n",
              "weather_description    0\n",
              "traffic_volume         0\n",
              "dtype: int64"
            ]
          },
          "metadata": {},
          "execution_count": 5
        }
      ]
    },
    {
      "cell_type": "code",
      "metadata": {
        "colab": {
          "base_uri": "https://localhost:8080/"
        },
        "id": "u4WC_6xb_fJs",
        "outputId": "5c62a36e-c216-4a6a-e0ea-72df1fa7ce3f"
      },
      "source": [
        "df['date_time']"
      ],
      "execution_count": null,
      "outputs": [
        {
          "output_type": "execute_result",
          "data": {
            "text/plain": [
              "0        2012-10-02 09:00:00\n",
              "1        2012-10-02 10:00:00\n",
              "2        2012-10-02 11:00:00\n",
              "3        2012-10-02 12:00:00\n",
              "4        2012-10-02 13:00:00\n",
              "                ...         \n",
              "38558    2017-11-01 18:00:00\n",
              "38559    2017-11-01 19:00:00\n",
              "38560    2017-11-01 19:00:00\n",
              "38561    2017-11-01 19:00:00\n",
              "38562    2017-11-01 20:00:00\n",
              "Name: date_time, Length: 38563, dtype: object"
            ]
          },
          "metadata": {},
          "execution_count": 6
        }
      ]
    },
    {
      "cell_type": "code",
      "metadata": {
        "colab": {
          "base_uri": "https://localhost:8080/"
        },
        "id": "K9NdZ8WX_jnd",
        "outputId": "ababc169-0f21-4d43-ffa8-bb2bbd4cebdc"
      },
      "source": [
        "df['date_time']=pd.to_datetime(df['date_time'])\n",
        "df['date_time'].head()"
      ],
      "execution_count": null,
      "outputs": [
        {
          "output_type": "execute_result",
          "data": {
            "text/plain": [
              "0   2012-10-02 09:00:00\n",
              "1   2012-10-02 10:00:00\n",
              "2   2012-10-02 11:00:00\n",
              "3   2012-10-02 12:00:00\n",
              "4   2012-10-02 13:00:00\n",
              "Name: date_time, dtype: datetime64[ns]"
            ]
          },
          "metadata": {},
          "execution_count": 7
        }
      ]
    },
    {
      "cell_type": "code",
      "metadata": {
        "colab": {
          "base_uri": "https://localhost:8080/"
        },
        "id": "TsiJqwWZ_ooF",
        "outputId": "f22fab95-854f-4cf2-d44c-322a2bdcac87"
      },
      "source": [
        "df['year'] = df['date_time'].dt.year\n",
        "df['month'] = df['date_time'].dt.month\n",
        "df['week'] = df['date_time'].dt.week\n",
        "df['day'] = df['date_time'].dt.day\n",
        "df['hour'] = df['date_time'].dt.hour \n",
        "df['week_day'] = df['date_time'].dt.dayofweek"
      ],
      "execution_count": null,
      "outputs": [
        {
          "output_type": "stream",
          "name": "stderr",
          "text": [
            "/usr/local/lib/python3.7/dist-packages/ipykernel_launcher.py:3: FutureWarning: Series.dt.weekofyear and Series.dt.week have been deprecated.  Please use Series.dt.isocalendar().week instead.\n",
            "  This is separate from the ipykernel package so we can avoid doing imports until\n"
          ]
        }
      ]
    },
    {
      "cell_type": "code",
      "metadata": {
        "colab": {
          "base_uri": "https://localhost:8080/",
          "height": 394
        },
        "id": "amUu3K_E_rnt",
        "outputId": "e76fc4f0-c4d6-4c37-c21b-3545f0ace7c1"
      },
      "source": [
        "df.head()"
      ],
      "execution_count": null,
      "outputs": [
        {
          "output_type": "execute_result",
          "data": {
            "text/html": [
              "<div>\n",
              "<style scoped>\n",
              "    .dataframe tbody tr th:only-of-type {\n",
              "        vertical-align: middle;\n",
              "    }\n",
              "\n",
              "    .dataframe tbody tr th {\n",
              "        vertical-align: top;\n",
              "    }\n",
              "\n",
              "    .dataframe thead th {\n",
              "        text-align: right;\n",
              "    }\n",
              "</style>\n",
              "<table border=\"1\" class=\"dataframe\">\n",
              "  <thead>\n",
              "    <tr style=\"text-align: right;\">\n",
              "      <th></th>\n",
              "      <th>date_time</th>\n",
              "      <th>holiday</th>\n",
              "      <th>temp</th>\n",
              "      <th>rain_1h</th>\n",
              "      <th>snow_1h</th>\n",
              "      <th>clouds_all</th>\n",
              "      <th>weather_main</th>\n",
              "      <th>weather_description</th>\n",
              "      <th>traffic_volume</th>\n",
              "      <th>year</th>\n",
              "      <th>month</th>\n",
              "      <th>week</th>\n",
              "      <th>day</th>\n",
              "      <th>hour</th>\n",
              "      <th>week_day</th>\n",
              "    </tr>\n",
              "  </thead>\n",
              "  <tbody>\n",
              "    <tr>\n",
              "      <th>0</th>\n",
              "      <td>2012-10-02 09:00:00</td>\n",
              "      <td>None</td>\n",
              "      <td>288.28</td>\n",
              "      <td>0.0</td>\n",
              "      <td>0.0</td>\n",
              "      <td>40</td>\n",
              "      <td>Clouds</td>\n",
              "      <td>scattered clouds</td>\n",
              "      <td>5545</td>\n",
              "      <td>2012</td>\n",
              "      <td>10</td>\n",
              "      <td>40</td>\n",
              "      <td>2</td>\n",
              "      <td>9</td>\n",
              "      <td>1</td>\n",
              "    </tr>\n",
              "    <tr>\n",
              "      <th>1</th>\n",
              "      <td>2012-10-02 10:00:00</td>\n",
              "      <td>None</td>\n",
              "      <td>289.36</td>\n",
              "      <td>0.0</td>\n",
              "      <td>0.0</td>\n",
              "      <td>75</td>\n",
              "      <td>Clouds</td>\n",
              "      <td>broken clouds</td>\n",
              "      <td>4516</td>\n",
              "      <td>2012</td>\n",
              "      <td>10</td>\n",
              "      <td>40</td>\n",
              "      <td>2</td>\n",
              "      <td>10</td>\n",
              "      <td>1</td>\n",
              "    </tr>\n",
              "    <tr>\n",
              "      <th>2</th>\n",
              "      <td>2012-10-02 11:00:00</td>\n",
              "      <td>None</td>\n",
              "      <td>289.58</td>\n",
              "      <td>0.0</td>\n",
              "      <td>0.0</td>\n",
              "      <td>90</td>\n",
              "      <td>Clouds</td>\n",
              "      <td>overcast clouds</td>\n",
              "      <td>4767</td>\n",
              "      <td>2012</td>\n",
              "      <td>10</td>\n",
              "      <td>40</td>\n",
              "      <td>2</td>\n",
              "      <td>11</td>\n",
              "      <td>1</td>\n",
              "    </tr>\n",
              "    <tr>\n",
              "      <th>3</th>\n",
              "      <td>2012-10-02 12:00:00</td>\n",
              "      <td>None</td>\n",
              "      <td>290.13</td>\n",
              "      <td>0.0</td>\n",
              "      <td>0.0</td>\n",
              "      <td>90</td>\n",
              "      <td>Clouds</td>\n",
              "      <td>overcast clouds</td>\n",
              "      <td>5026</td>\n",
              "      <td>2012</td>\n",
              "      <td>10</td>\n",
              "      <td>40</td>\n",
              "      <td>2</td>\n",
              "      <td>12</td>\n",
              "      <td>1</td>\n",
              "    </tr>\n",
              "    <tr>\n",
              "      <th>4</th>\n",
              "      <td>2012-10-02 13:00:00</td>\n",
              "      <td>None</td>\n",
              "      <td>291.14</td>\n",
              "      <td>0.0</td>\n",
              "      <td>0.0</td>\n",
              "      <td>75</td>\n",
              "      <td>Clouds</td>\n",
              "      <td>broken clouds</td>\n",
              "      <td>4918</td>\n",
              "      <td>2012</td>\n",
              "      <td>10</td>\n",
              "      <td>40</td>\n",
              "      <td>2</td>\n",
              "      <td>13</td>\n",
              "      <td>1</td>\n",
              "    </tr>\n",
              "  </tbody>\n",
              "</table>\n",
              "</div>"
            ],
            "text/plain": [
              "            date_time holiday    temp  rain_1h  ...  week  day hour week_day\n",
              "0 2012-10-02 09:00:00    None  288.28      0.0  ...    40    2    9        1\n",
              "1 2012-10-02 10:00:00    None  289.36      0.0  ...    40    2   10        1\n",
              "2 2012-10-02 11:00:00    None  289.58      0.0  ...    40    2   11        1\n",
              "3 2012-10-02 12:00:00    None  290.13      0.0  ...    40    2   12        1\n",
              "4 2012-10-02 13:00:00    None  291.14      0.0  ...    40    2   13        1\n",
              "\n",
              "[5 rows x 15 columns]"
            ]
          },
          "metadata": {},
          "execution_count": 9
        }
      ]
    },
    {
      "cell_type": "code",
      "metadata": {
        "colab": {
          "base_uri": "https://localhost:8080/",
          "height": 350
        },
        "id": "_sn2LW6Q_tZj",
        "outputId": "32572322-0d69-48cf-bd0e-94eb97115d81"
      },
      "source": [
        "import matplotlib.pyplot as plt\n",
        "import seaborn as sns\n",
        "sns.boxplot(df['temp'])"
      ],
      "execution_count": null,
      "outputs": [
        {
          "output_type": "stream",
          "name": "stderr",
          "text": [
            "/usr/local/lib/python3.7/dist-packages/seaborn/_decorators.py:43: FutureWarning: Pass the following variable as a keyword arg: x. From version 0.12, the only valid positional argument will be `data`, and passing other arguments without an explicit keyword will result in an error or misinterpretation.\n",
            "  FutureWarning\n"
          ]
        },
        {
          "output_type": "execute_result",
          "data": {
            "text/plain": [
              "<matplotlib.axes._subplots.AxesSubplot at 0x7f39bebab1d0>"
            ]
          },
          "metadata": {},
          "execution_count": 10
        },
        {
          "output_type": "display_data",
          "data": {
            "image/png": "[encoded data removed]",
            "text/plain": [
              "<Figure size 432x288 with 1 Axes>"
            ]
          },
          "metadata": {
            "needs_background": "light"
          }
        }
      ]
    },
    {
      "cell_type": "code",
      "metadata": {
        "id": "_DIOTpue_4w0"
      },
      "source": [
        "df=df[df['temp']>=200]"
      ],
      "execution_count": null,
      "outputs": []
    },
    {
      "cell_type": "code",
      "metadata": {
        "colab": {
          "base_uri": "https://localhost:8080/",
          "height": 351
        },
        "id": "GUKSzalgABQs",
        "outputId": "058dc959-332e-45d8-d33a-f840fd14a470"
      },
      "source": [
        "sns.boxplot(df['rain_1h'])"
      ],
      "execution_count": null,
      "outputs": [
        {
          "output_type": "stream",
          "name": "stderr",
          "text": [
            "/usr/local/lib/python3.7/dist-packages/seaborn/_decorators.py:43: FutureWarning: Pass the following variable as a keyword arg: x. From version 0.12, the only valid positional argument will be `data`, and passing other arguments without an explicit keyword will result in an error or misinterpretation.\n",
            "  FutureWarning\n"
          ]
        },
        {
          "output_type": "execute_result",
          "data": {
            "text/plain": [
              "<matplotlib.axes._subplots.AxesSubplot at 0x7f39beafc7d0>"
            ]
          },
          "metadata": {},
          "execution_count": 12
        },
        {
          "output_type": "display_data",
          "data": {
            "image/png": "[encoded data removed]",
            "text/plain": [
              "<Figure size 432x288 with 1 Axes>"
            ]
          },
          "metadata": {
            "needs_background": "light"
          }
        }
      ]
    },
    {
      "cell_type": "code",
      "metadata": {
        "colab": {
          "base_uri": "https://localhost:8080/"
        },
        "id": "DWeOBtaIAevi",
        "outputId": "d59cd690-b5f3-4389-9b75-dfd67d8d61f6"
      },
      "source": [
        "df['rain_1h'].sort_values()"
      ],
      "execution_count": null,
      "outputs": [
        {
          "output_type": "execute_result",
          "data": {
            "text/plain": [
              "0           0.00\n",
              "25716       0.00\n",
              "25717       0.00\n",
              "25718       0.00\n",
              "25719       0.00\n",
              "          ...   \n",
              "10807      28.70\n",
              "25779      31.75\n",
              "7179       44.45\n",
              "8247       55.63\n",
              "24872    9831.30\n",
              "Name: rain_1h, Length: 38553, dtype: float64"
            ]
          },
          "metadata": {},
          "execution_count": 13
        }
      ]
    },
    {
      "cell_type": "code",
      "metadata": {
        "id": "ILwkhN7FAk7H"
      },
      "source": [
        "df=df[df['rain_1h']<60]"
      ],
      "execution_count": null,
      "outputs": []
    },
    {
      "cell_type": "code",
      "metadata": {
        "colab": {
          "base_uri": "https://localhost:8080/",
          "height": 394
        },
        "id": "SZOTRbzFAoYs",
        "outputId": "269aa7ae-641f-4fbe-946d-5a4e3a35008e"
      },
      "source": [
        "df.head()"
      ],
      "execution_count": null,
      "outputs": [
        {
          "output_type": "execute_result",
          "data": {
            "text/html": [
              "<div>\n",
              "<style scoped>\n",
              "    .dataframe tbody tr th:only-of-type {\n",
              "        vertical-align: middle;\n",
              "    }\n",
              "\n",
              "    .dataframe tbody tr th {\n",
              "        vertical-align: top;\n",
              "    }\n",
              "\n",
              "    .dataframe thead th {\n",
              "        text-align: right;\n",
              "    }\n",
              "</style>\n",
              "<table border=\"1\" class=\"dataframe\">\n",
              "  <thead>\n",
              "    <tr style=\"text-align: right;\">\n",
              "      <th></th>\n",
              "      <th>date_time</th>\n",
              "      <th>holiday</th>\n",
              "      <th>temp</th>\n",
              "      <th>rain_1h</th>\n",
              "      <th>snow_1h</th>\n",
              "      <th>clouds_all</th>\n",
              "      <th>weather_main</th>\n",
              "      <th>weather_description</th>\n",
              "      <th>traffic_volume</th>\n",
              "      <th>year</th>\n",
              "      <th>month</th>\n",
              "      <th>week</th>\n",
              "      <th>day</th>\n",
              "      <th>hour</th>\n",
              "      <th>week_day</th>\n",
              "    </tr>\n",
              "  </thead>\n",
              "  <tbody>\n",
              "    <tr>\n",
              "      <th>0</th>\n",
              "      <td>2012-10-02 09:00:00</td>\n",
              "      <td>None</td>\n",
              "      <td>288.28</td>\n",
              "      <td>0.0</td>\n",
              "      <td>0.0</td>\n",
              "      <td>40</td>\n",
              "      <td>Clouds</td>\n",
              "      <td>scattered clouds</td>\n",
              "      <td>5545</td>\n",
              "      <td>2012</td>\n",
              "      <td>10</td>\n",
              "      <td>40</td>\n",
              "      <td>2</td>\n",
              "      <td>9</td>\n",
              "      <td>1</td>\n",
              "    </tr>\n",
              "    <tr>\n",
              "      <th>1</th>\n",
              "      <td>2012-10-02 10:00:00</td>\n",
              "      <td>None</td>\n",
              "      <td>289.36</td>\n",
              "      <td>0.0</td>\n",
              "      <td>0.0</td>\n",
              "      <td>75</td>\n",
              "      <td>Clouds</td>\n",
              "      <td>broken clouds</td>\n",
              "      <td>4516</td>\n",
              "      <td>2012</td>\n",
              "      <td>10</td>\n",
              "      <td>40</td>\n",
              "      <td>2</td>\n",
              "      <td>10</td>\n",
              "      <td>1</td>\n",
              "    </tr>\n",
              "    <tr>\n",
              "      <th>2</th>\n",
              "      <td>2012-10-02 11:00:00</td>\n",
              "      <td>None</td>\n",
              "      <td>289.58</td>\n",
              "      <td>0.0</td>\n",
              "      <td>0.0</td>\n",
              "      <td>90</td>\n",
              "      <td>Clouds</td>\n",
              "      <td>overcast clouds</td>\n",
              "      <td>4767</td>\n",
              "      <td>2012</td>\n",
              "      <td>10</td>\n",
              "      <td>40</td>\n",
              "      <td>2</td>\n",
              "      <td>11</td>\n",
              "      <td>1</td>\n",
              "    </tr>\n",
              "    <tr>\n",
              "      <th>3</th>\n",
              "      <td>2012-10-02 12:00:00</td>\n",
              "      <td>None</td>\n",
              "      <td>290.13</td>\n",
              "      <td>0.0</td>\n",
              "      <td>0.0</td>\n",
              "      <td>90</td>\n",
              "      <td>Clouds</td>\n",
              "      <td>overcast clouds</td>\n",
              "      <td>5026</td>\n",
              "      <td>2012</td>\n",
              "      <td>10</td>\n",
              "      <td>40</td>\n",
              "      <td>2</td>\n",
              "      <td>12</td>\n",
              "      <td>1</td>\n",
              "    </tr>\n",
              "    <tr>\n",
              "      <th>4</th>\n",
              "      <td>2012-10-02 13:00:00</td>\n",
              "      <td>None</td>\n",
              "      <td>291.14</td>\n",
              "      <td>0.0</td>\n",
              "      <td>0.0</td>\n",
              "      <td>75</td>\n",
              "      <td>Clouds</td>\n",
              "      <td>broken clouds</td>\n",
              "      <td>4918</td>\n",
              "      <td>2012</td>\n",
              "      <td>10</td>\n",
              "      <td>40</td>\n",
              "      <td>2</td>\n",
              "      <td>13</td>\n",
              "      <td>1</td>\n",
              "    </tr>\n",
              "  </tbody>\n",
              "</table>\n",
              "</div>"
            ],
            "text/plain": [
              "            date_time holiday    temp  rain_1h  ...  week  day hour week_day\n",
              "0 2012-10-02 09:00:00    None  288.28      0.0  ...    40    2    9        1\n",
              "1 2012-10-02 10:00:00    None  289.36      0.0  ...    40    2   10        1\n",
              "2 2012-10-02 11:00:00    None  289.58      0.0  ...    40    2   11        1\n",
              "3 2012-10-02 12:00:00    None  290.13      0.0  ...    40    2   12        1\n",
              "4 2012-10-02 13:00:00    None  291.14      0.0  ...    40    2   13        1\n",
              "\n",
              "[5 rows x 15 columns]"
            ]
          },
          "metadata": {},
          "execution_count": 15
        }
      ]
    },
    {
      "cell_type": "code",
      "metadata": {
        "id": "8z1ZInwUA13o"
      },
      "source": [
        "from sklearn.preprocessing import LabelEncoder\n",
        "categ = ['weather_main','weather_description','holiday']\n",
        "le = LabelEncoder()\n",
        "df[categ] = df[categ].apply(le.fit_transform)"
      ],
      "execution_count": null,
      "outputs": []
    },
    {
      "cell_type": "code",
      "metadata": {
        "colab": {
          "base_uri": "https://localhost:8080/",
          "height": 394
        },
        "id": "TMlfwX5ICsac",
        "outputId": "2c375160-d07b-4930-896a-5b33f4e7964e"
      },
      "source": [
        "df.head()"
      ],
      "execution_count": null,
      "outputs": [
        {
          "output_type": "execute_result",
          "data": {
            "text/html": [
              "<div>\n",
              "<style scoped>\n",
              "    .dataframe tbody tr th:only-of-type {\n",
              "        vertical-align: middle;\n",
              "    }\n",
              "\n",
              "    .dataframe tbody tr th {\n",
              "        vertical-align: top;\n",
              "    }\n",
              "\n",
              "    .dataframe thead th {\n",
              "        text-align: right;\n",
              "    }\n",
              "</style>\n",
              "<table border=\"1\" class=\"dataframe\">\n",
              "  <thead>\n",
              "    <tr style=\"text-align: right;\">\n",
              "      <th></th>\n",
              "      <th>date_time</th>\n",
              "      <th>holiday</th>\n",
              "      <th>temp</th>\n",
              "      <th>rain_1h</th>\n",
              "      <th>snow_1h</th>\n",
              "      <th>clouds_all</th>\n",
              "      <th>weather_main</th>\n",
              "      <th>weather_description</th>\n",
              "      <th>traffic_volume</th>\n",
              "      <th>year</th>\n",
              "      <th>month</th>\n",
              "      <th>week</th>\n",
              "      <th>day</th>\n",
              "      <th>hour</th>\n",
              "      <th>week_day</th>\n",
              "    </tr>\n",
              "  </thead>\n",
              "  <tbody>\n",
              "    <tr>\n",
              "      <th>0</th>\n",
              "      <td>2012-10-02 09:00:00</td>\n",
              "      <td>7</td>\n",
              "      <td>288.28</td>\n",
              "      <td>0.0</td>\n",
              "      <td>0.0</td>\n",
              "      <td>40</td>\n",
              "      <td>1</td>\n",
              "      <td>24</td>\n",
              "      <td>5545</td>\n",
              "      <td>2012</td>\n",
              "      <td>10</td>\n",
              "      <td>40</td>\n",
              "      <td>2</td>\n",
              "      <td>9</td>\n",
              "      <td>1</td>\n",
              "    </tr>\n",
              "    <tr>\n",
              "      <th>1</th>\n",
              "      <td>2012-10-02 10:00:00</td>\n",
              "      <td>7</td>\n",
              "      <td>289.36</td>\n",
              "      <td>0.0</td>\n",
              "      <td>0.0</td>\n",
              "      <td>75</td>\n",
              "      <td>1</td>\n",
              "      <td>2</td>\n",
              "      <td>4516</td>\n",
              "      <td>2012</td>\n",
              "      <td>10</td>\n",
              "      <td>40</td>\n",
              "      <td>2</td>\n",
              "      <td>10</td>\n",
              "      <td>1</td>\n",
              "    </tr>\n",
              "    <tr>\n",
              "      <th>2</th>\n",
              "      <td>2012-10-02 11:00:00</td>\n",
              "      <td>7</td>\n",
              "      <td>289.58</td>\n",
              "      <td>0.0</td>\n",
              "      <td>0.0</td>\n",
              "      <td>90</td>\n",
              "      <td>1</td>\n",
              "      <td>19</td>\n",
              "      <td>4767</td>\n",
              "      <td>2012</td>\n",
              "      <td>10</td>\n",
              "      <td>40</td>\n",
              "      <td>2</td>\n",
              "      <td>11</td>\n",
              "      <td>1</td>\n",
              "    </tr>\n",
              "    <tr>\n",
              "      <th>3</th>\n",
              "      <td>2012-10-02 12:00:00</td>\n",
              "      <td>7</td>\n",
              "      <td>290.13</td>\n",
              "      <td>0.0</td>\n",
              "      <td>0.0</td>\n",
              "      <td>90</td>\n",
              "      <td>1</td>\n",
              "      <td>19</td>\n",
              "      <td>5026</td>\n",
              "      <td>2012</td>\n",
              "      <td>10</td>\n",
              "      <td>40</td>\n",
              "      <td>2</td>\n",
              "      <td>12</td>\n",
              "      <td>1</td>\n",
              "    </tr>\n",
              "    <tr>\n",
              "      <th>4</th>\n",
              "      <td>2012-10-02 13:00:00</td>\n",
              "      <td>7</td>\n",
              "      <td>291.14</td>\n",
              "      <td>0.0</td>\n",
              "      <td>0.0</td>\n",
              "      <td>75</td>\n",
              "      <td>1</td>\n",
              "      <td>2</td>\n",
              "      <td>4918</td>\n",
              "      <td>2012</td>\n",
              "      <td>10</td>\n",
              "      <td>40</td>\n",
              "      <td>2</td>\n",
              "      <td>13</td>\n",
              "      <td>1</td>\n",
              "    </tr>\n",
              "  </tbody>\n",
              "</table>\n",
              "</div>"
            ],
            "text/plain": [
              "            date_time  holiday    temp  rain_1h  ...  week  day  hour  week_day\n",
              "0 2012-10-02 09:00:00        7  288.28      0.0  ...    40    2     9         1\n",
              "1 2012-10-02 10:00:00        7  289.36      0.0  ...    40    2    10         1\n",
              "2 2012-10-02 11:00:00        7  289.58      0.0  ...    40    2    11         1\n",
              "3 2012-10-02 12:00:00        7  290.13      0.0  ...    40    2    12         1\n",
              "4 2012-10-02 13:00:00        7  291.14      0.0  ...    40    2    13         1\n",
              "\n",
              "[5 rows x 15 columns]"
            ]
          },
          "metadata": {},
          "execution_count": 17
        }
      ]
    },
    {
      "cell_type": "code",
      "metadata": {
        "id": "IROLNuDDCuy1"
      },
      "source": [
        "df.drop(['date_time'],axis=1,inplace=True)"
      ],
      "execution_count": null,
      "outputs": []
    },
    {
      "cell_type": "code",
      "metadata": {
        "id": "95tdNTAdC7bs"
      },
      "source": [
        "from sklearn.model_selection import train_test_split\n",
        "from sklearn.linear_model import LinearRegression\n",
        "from sklearn.neighbors import KNeighborsRegressor \n",
        "from sklearn.ensemble import RandomForestRegressor \n",
        "from sklearn.metrics import mean_squared_error\n",
        "from sklearn.ensemble import GradientBoostingRegressor "
      ],
      "execution_count": null,
      "outputs": []
    },
    {
      "cell_type": "code",
      "metadata": {
        "colab": {
          "base_uri": "https://localhost:8080/",
          "height": 693
        },
        "id": "eDR_jHz2DvCf",
        "outputId": "e646f2ea-deea-4883-b955-99259df8e20c"
      },
      "source": [
        "plt.figure(figsize=(20,20))\n",
        "sns.heatmap(df.corr(), cmap='coolwarm', annot=True)"
      ],
      "execution_count": null,
      "outputs": [
        {
          "output_type": "execute_result",
          "data": {
            "text/plain": [
              "<matplotlib.axes._subplots.AxesSubplot at 0x7f39b8e00190>"
            ]
          },
          "metadata": {},
          "execution_count": 20
        },
        {
          "output_type": "display_data",
          "data": {
            "image/png": "[encoded data removed]",
            "text/plain": [
              "<Figure size 1440x1440 with 2 Axes>"
            ]
          },
          "metadata": {
            "needs_background": "light"
          }
        }
      ]
    },
    {
      "cell_type": "code",
      "metadata": {
        "colab": {
          "base_uri": "https://localhost:8080/",
          "height": 439
        },
        "id": "RK9vG4XUEQ2J",
        "outputId": "cbf90408-5df2-4f5f-b095-2df27c891889"
      },
      "source": [
        "y=df['traffic_volume']\n",
        "X=df.drop(columns=['traffic_volume'])\n",
        "X"
      ],
      "execution_count": null,
      "outputs": [
        {
          "output_type": "execute_result",
          "data": {
            "text/html": [
              "<div>\n",
              "<style scoped>\n",
              "    .dataframe tbody tr th:only-of-type {\n",
              "        vertical-align: middle;\n",
              "    }\n",
              "\n",
              "    .dataframe tbody tr th {\n",
              "        vertical-align: top;\n",
              "    }\n",
              "\n",
              "    .dataframe thead th {\n",
              "        text-align: right;\n",
              "    }\n",
              "</style>\n",
              "<table border=\"1\" class=\"dataframe\">\n",
              "  <thead>\n",
              "    <tr style=\"text-align: right;\">\n",
              "      <th></th>\n",
              "      <th>holiday</th>\n",
              "      <th>temp</th>\n",
              "      <th>rain_1h</th>\n",
              "      <th>snow_1h</th>\n",
              "      <th>clouds_all</th>\n",
              "      <th>weather_main</th>\n",
              "      <th>weather_description</th>\n",
              "      <th>year</th>\n",
              "      <th>month</th>\n",
              "      <th>week</th>\n",
              "      <th>day</th>\n",
              "      <th>hour</th>\n",
              "      <th>week_day</th>\n",
              "    </tr>\n",
              "  </thead>\n",
              "  <tbody>\n",
              "    <tr>\n",
              "      <th>0</th>\n",
              "      <td>7</td>\n",
              "      <td>288.28</td>\n",
              "      <td>0.0</td>\n",
              "      <td>0.0</td>\n",
              "      <td>40</td>\n",
              "      <td>1</td>\n",
              "      <td>24</td>\n",
              "      <td>2012</td>\n",
              "      <td>10</td>\n",
              "      <td>40</td>\n",
              "      <td>2</td>\n",
              "      <td>9</td>\n",
              "      <td>1</td>\n",
              "    </tr>\n",
              "    <tr>\n",
              "      <th>1</th>\n",
              "      <td>7</td>\n",
              "      <td>289.36</td>\n",
              "      <td>0.0</td>\n",
              "      <td>0.0</td>\n",
              "      <td>75</td>\n",
              "      <td>1</td>\n",
              "      <td>2</td>\n",
              "      <td>2012</td>\n",
              "      <td>10</td>\n",
              "      <td>40</td>\n",
              "      <td>2</td>\n",
              "      <td>10</td>\n",
              "      <td>1</td>\n",
              "    </tr>\n",
              "    <tr>\n",
              "      <th>2</th>\n",
              "      <td>7</td>\n",
              "      <td>289.58</td>\n",
              "      <td>0.0</td>\n",
              "      <td>0.0</td>\n",
              "      <td>90</td>\n",
              "      <td>1</td>\n",
              "      <td>19</td>\n",
              "      <td>2012</td>\n",
              "      <td>10</td>\n",
              "      <td>40</td>\n",
              "      <td>2</td>\n",
              "      <td>11</td>\n",
              "      <td>1</td>\n",
              "    </tr>\n",
              "    <tr>\n",
              "      <th>3</th>\n",
              "      <td>7</td>\n",
              "      <td>290.13</td>\n",
              "      <td>0.0</td>\n",
              "      <td>0.0</td>\n",
              "      <td>90</td>\n",
              "      <td>1</td>\n",
              "      <td>19</td>\n",
              "      <td>2012</td>\n",
              "      <td>10</td>\n",
              "      <td>40</td>\n",
              "      <td>2</td>\n",
              "      <td>12</td>\n",
              "      <td>1</td>\n",
              "    </tr>\n",
              "    <tr>\n",
              "      <th>4</th>\n",
              "      <td>7</td>\n",
              "      <td>291.14</td>\n",
              "      <td>0.0</td>\n",
              "      <td>0.0</td>\n",
              "      <td>75</td>\n",
              "      <td>1</td>\n",
              "      <td>2</td>\n",
              "      <td>2012</td>\n",
              "      <td>10</td>\n",
              "      <td>40</td>\n",
              "      <td>2</td>\n",
              "      <td>13</td>\n",
              "      <td>1</td>\n",
              "    </tr>\n",
              "    <tr>\n",
              "      <th>...</th>\n",
              "      <td>...</td>\n",
              "      <td>...</td>\n",
              "      <td>...</td>\n",
              "      <td>...</td>\n",
              "      <td>...</td>\n",
              "      <td>...</td>\n",
              "      <td>...</td>\n",
              "      <td>...</td>\n",
              "      <td>...</td>\n",
              "      <td>...</td>\n",
              "      <td>...</td>\n",
              "      <td>...</td>\n",
              "      <td>...</td>\n",
              "    </tr>\n",
              "    <tr>\n",
              "      <th>38558</th>\n",
              "      <td>7</td>\n",
              "      <td>274.35</td>\n",
              "      <td>0.0</td>\n",
              "      <td>0.0</td>\n",
              "      <td>90</td>\n",
              "      <td>8</td>\n",
              "      <td>16</td>\n",
              "      <td>2017</td>\n",
              "      <td>11</td>\n",
              "      <td>44</td>\n",
              "      <td>1</td>\n",
              "      <td>18</td>\n",
              "      <td>2</td>\n",
              "    </tr>\n",
              "    <tr>\n",
              "      <th>38559</th>\n",
              "      <td>7</td>\n",
              "      <td>274.62</td>\n",
              "      <td>0.0</td>\n",
              "      <td>0.0</td>\n",
              "      <td>90</td>\n",
              "      <td>2</td>\n",
              "      <td>11</td>\n",
              "      <td>2017</td>\n",
              "      <td>11</td>\n",
              "      <td>44</td>\n",
              "      <td>1</td>\n",
              "      <td>19</td>\n",
              "      <td>2</td>\n",
              "    </tr>\n",
              "    <tr>\n",
              "      <th>38560</th>\n",
              "      <td>7</td>\n",
              "      <td>274.62</td>\n",
              "      <td>0.0</td>\n",
              "      <td>0.0</td>\n",
              "      <td>90</td>\n",
              "      <td>5</td>\n",
              "      <td>17</td>\n",
              "      <td>2017</td>\n",
              "      <td>11</td>\n",
              "      <td>44</td>\n",
              "      <td>1</td>\n",
              "      <td>19</td>\n",
              "      <td>2</td>\n",
              "    </tr>\n",
              "    <tr>\n",
              "      <th>38561</th>\n",
              "      <td>7</td>\n",
              "      <td>274.62</td>\n",
              "      <td>0.0</td>\n",
              "      <td>0.0</td>\n",
              "      <td>90</td>\n",
              "      <td>6</td>\n",
              "      <td>13</td>\n",
              "      <td>2017</td>\n",
              "      <td>11</td>\n",
              "      <td>44</td>\n",
              "      <td>1</td>\n",
              "      <td>19</td>\n",
              "      <td>2</td>\n",
              "    </tr>\n",
              "    <tr>\n",
              "      <th>38562</th>\n",
              "      <td>7</td>\n",
              "      <td>274.75</td>\n",
              "      <td>0.0</td>\n",
              "      <td>0.0</td>\n",
              "      <td>90</td>\n",
              "      <td>2</td>\n",
              "      <td>11</td>\n",
              "      <td>2017</td>\n",
              "      <td>11</td>\n",
              "      <td>44</td>\n",
              "      <td>1</td>\n",
              "      <td>20</td>\n",
              "      <td>2</td>\n",
              "    </tr>\n",
              "  </tbody>\n",
              "</table>\n",
              "<p>38552 rows × 13 columns</p>\n",
              "</div>"
            ],
            "text/plain": [
              "       holiday    temp  rain_1h  snow_1h  ...  week  day  hour  week_day\n",
              "0            7  288.28      0.0      0.0  ...    40    2     9         1\n",
              "1            7  289.36      0.0      0.0  ...    40    2    10         1\n",
              "2            7  289.58      0.0      0.0  ...    40    2    11         1\n",
              "3            7  290.13      0.0      0.0  ...    40    2    12         1\n",
              "4            7  291.14      0.0      0.0  ...    40    2    13         1\n",
              "...        ...     ...      ...      ...  ...   ...  ...   ...       ...\n",
              "38558        7  274.35      0.0      0.0  ...    44    1    18         2\n",
              "38559        7  274.62      0.0      0.0  ...    44    1    19         2\n",
              "38560        7  274.62      0.0      0.0  ...    44    1    19         2\n",
              "38561        7  274.62      0.0      0.0  ...    44    1    19         2\n",
              "38562        7  274.75      0.0      0.0  ...    44    1    20         2\n",
              "\n",
              "[38552 rows x 13 columns]"
            ]
          },
          "metadata": {},
          "execution_count": 21
        }
      ]
    },
    {
      "cell_type": "code",
      "metadata": {
        "colab": {
          "base_uri": "https://localhost:8080/"
        },
        "id": "kBNY1PndFELo",
        "outputId": "5d92e0f6-e1ff-4e4b-d2c2-b31dcf556e55"
      },
      "source": [
        "y"
      ],
      "execution_count": null,
      "outputs": [
        {
          "output_type": "execute_result",
          "data": {
            "text/plain": [
              "0        5545\n",
              "1        4516\n",
              "2        4767\n",
              "3        5026\n",
              "4        4918\n",
              "         ... \n",
              "38558    4297\n",
              "38559    3045\n",
              "38560    3045\n",
              "38561    3045\n",
              "38562    2704\n",
              "Name: traffic_volume, Length: 38552, dtype: int64"
            ]
          },
          "metadata": {},
          "execution_count": 22
        }
      ]
    },
    {
      "cell_type": "code",
      "metadata": {
        "id": "XXGisC26FrgT"
      },
      "source": [
        "x_train,x_test,y_train,y_test=train_test_split(X,y,test_size=0.2,random_state=40)"
      ],
      "execution_count": null,
      "outputs": []
    },
    {
      "cell_type": "code",
      "metadata": {
        "colab": {
          "base_uri": "https://localhost:8080/"
        },
        "id": "_5zUJLYqF5PP",
        "outputId": "9dc936e0-e760-4a29-92d4-e340cbef3ef1"
      },
      "source": [
        "x_train.shape"
      ],
      "execution_count": null,
      "outputs": [
        {
          "output_type": "execute_result",
          "data": {
            "text/plain": [
              "(30841, 13)"
            ]
          },
          "metadata": {},
          "execution_count": 24
        }
      ]
    },
    {
      "cell_type": "code",
      "metadata": {
        "colab": {
          "base_uri": "https://localhost:8080/"
        },
        "id": "FNh0S-eRF7Uo",
        "outputId": "ff4cac80-598f-43d2-a776-e8d18ce45b6f"
      },
      "source": [
        "x_test.shape"
      ],
      "execution_count": null,
      "outputs": [
        {
          "output_type": "execute_result",
          "data": {
            "text/plain": [
              "(7711, 13)"
            ]
          },
          "metadata": {},
          "execution_count": 25
        }
      ]
    },
    {
      "cell_type": "code",
      "metadata": {
        "colab": {
          "base_uri": "https://localhost:8080/"
        },
        "id": "EXroYj4kF-oF",
        "outputId": "61a9a997-cf19-4b26-88aa-09b87e088bbb"
      },
      "source": [
        "y_train.shape"
      ],
      "execution_count": null,
      "outputs": [
        {
          "output_type": "execute_result",
          "data": {
            "text/plain": [
              "(30841,)"
            ]
          },
          "metadata": {},
          "execution_count": 26
        }
      ]
    },
    {
      "cell_type": "code",
      "metadata": {
        "colab": {
          "base_uri": "https://localhost:8080/"
        },
        "id": "f5g7MjftGA9T",
        "outputId": "1cd519af-a133-436e-c57a-90a4e0f71029"
      },
      "source": [
        "y_test.shape"
      ],
      "execution_count": null,
      "outputs": [
        {
          "output_type": "execute_result",
          "data": {
            "text/plain": [
              "(7711,)"
            ]
          },
          "metadata": {},
          "execution_count": 27
        }
      ]
    },
    {
      "cell_type": "code",
      "metadata": {
        "id": "QK9IbaZlGEC9"
      },
      "source": [
        "lr = LinearRegression()\n",
        "lr.fit(x_train,y_train)\n",
        "y_pred = lr.predict(x_test)"
      ],
      "execution_count": null,
      "outputs": []
    },
    {
      "cell_type": "code",
      "metadata": {
        "colab": {
          "base_uri": "https://localhost:8080/"
        },
        "id": "hAP_wEzVG1Ky",
        "outputId": "fa2e38a3-d0f7-4ff2-ea43-2a7aa112b9ae"
      },
      "source": [
        "acc=mean_squared_error(y_test,y_pred,squared=False)\n",
        "acc "
      ],
      "execution_count": null,
      "outputs": [
        {
          "output_type": "execute_result",
          "data": {
            "text/plain": [
              "1823.477972238881"
            ]
          },
          "metadata": {},
          "execution_count": 29
        }
      ]
    },
    {
      "cell_type": "code",
      "metadata": {
        "id": "sF3sd-ZGIhaC"
      },
      "source": [
        " knn=KNeighborsRegressor()\n",
        " knn.fit(x_train,y_train)\n",
        " y_pred1 = knn.predict(x_test)"
      ],
      "execution_count": null,
      "outputs": []
    },
    {
      "cell_type": "code",
      "metadata": {
        "colab": {
          "base_uri": "https://localhost:8080/"
        },
        "id": "gipntFg-LbOp",
        "outputId": "197ca4a7-5ed0-4f1f-dbd6-1602fdabe591"
      },
      "source": [
        "acc1=mean_squared_error(y_test,y_pred1,squared=False)\n",
        "acc1 "
      ],
      "execution_count": null,
      "outputs": [
        {
          "output_type": "execute_result",
          "data": {
            "text/plain": [
              "1072.2990159794983"
            ]
          },
          "metadata": {},
          "execution_count": 31
        }
      ]
    },
    {
      "cell_type": "code",
      "metadata": {
        "id": "g2vPmCVHMXyK"
      },
      "source": [
        " rfr=RandomForestRegressor()\n",
        " rfr.fit(x_train,y_train)\n",
        " y_pred2 = rfr.predict(x_test)"
      ],
      "execution_count": null,
      "outputs": []
    },
    {
      "cell_type": "code",
      "metadata": {
        "colab": {
          "base_uri": "https://localhost:8080/"
        },
        "id": "X5tNzCZyNFaX",
        "outputId": "b8b08f69-232b-47f7-f0d9-2d1608030f99"
      },
      "source": [
        "acc2=mean_squared_error(y_test,y_pred2,squared=False)\n",
        "acc2 "
      ],
      "execution_count": null,
      "outputs": [
        {
          "output_type": "execute_result",
          "data": {
            "text/plain": [
              "371.9483156827085"
            ]
          },
          "metadata": {},
          "execution_count": 33
        }
      ]
    },
    {
      "cell_type": "code",
      "metadata": {
        "id": "kQ_41I46NIZX"
      },
      "source": [
        " gbr=GradientBoostingRegressor()\n",
        " gbr.fit(x_train,y_train)\n",
        " y_pred3 = gbr.predict(x_test)"
      ],
      "execution_count": null,
      "outputs": []
    },
    {
      "cell_type": "code",
      "metadata": {
        "colab": {
          "base_uri": "https://localhost:8080/"
        },
        "id": "jf8xIDj3NS88",
        "outputId": "0a94bea9-7266-4f54-8df5-07da044f83b2"
      },
      "source": [
        "acc3=mean_squared_error(y_test,y_pred3,squared=False)\n",
        "acc3 "
      ],
      "execution_count": null,
      "outputs": [
        {
          "output_type": "execute_result",
          "data": {
            "text/plain": [
              "507.1273595261407"
            ]
          },
          "metadata": {},
          "execution_count": 35
        }
      ]
    },
    {
      "cell_type": "code",
      "metadata": {
        "id": "iLx77lV_NV56",
        "colab": {
          "base_uri": "https://localhost:8080/"
        },
        "outputId": "d13bda8d-805e-4ff5-85dd-5468d9b2ebb4"
      },
      "source": [
        "from sklearn.metrics import r2_score\n",
        "r = r2_score(y_test, y_pred)\n",
        "r1 = r2_score(y_test, y_pred1)\n",
        "r2 = r2_score(y_test, y_pred2)\n",
        "r3 = r2_score(y_test, y_pred3)\n",
        "print(\"lr score: \",r)\n",
        "print(\"knn score: \",r1)\n",
        "print(\"rf score: \",r2)\n",
        "print(\"gbr score: \",r3)"
      ],
      "execution_count": null,
      "outputs": [
        {
          "output_type": "stream",
          "name": "stdout",
          "text": [
            "lr score:  0.16587839012829486\n",
            "knn score:  0.7115569063207716\n",
            "rf score:  0.9652948822035079\n",
            "gbr score:  0.9354847458059063\n"
          ]
        }
      ]
    },
    {
      "cell_type": "code",
      "metadata": {
        "id": "HN_29y9pog9t"
      },
      "source": [
        ""
      ],
      "execution_count": null,
      "outputs": []
    }
  ]
}